{
 "cells": [
  {
   "cell_type": "markdown",
   "id": "d3834912-ec7a-4d38-8563-8cceae699ab7",
   "metadata": {},
   "source": [
    "Example 1 "
   ]
  },
  {
   "cell_type": "code",
   "execution_count": 1,
   "id": "a36b0299-4f21-414b-a141-5f7e4b79cf54",
   "metadata": {},
   "outputs": [
    {
     "name": "stdout",
     "output_type": "stream",
     "text": [
      "Hello\n",
      "Hello\n"
     ]
    }
   ],
   "source": [
    "print(\"Hello\")\n",
    "print('Hello')"
   ]
  },
  {
   "cell_type": "markdown",
   "id": "a189fbda-c226-4071-b48d-d3569d92789d",
   "metadata": {},
   "source": [
    "Example 2"
   ]
  },
  {
   "cell_type": "code",
   "execution_count": 2,
   "id": "01b9fbf6-9dba-4898-b1ed-7e5cb5148913",
   "metadata": {},
   "outputs": [
    {
     "name": "stdout",
     "output_type": "stream",
     "text": [
      "It's alright\n",
      "He is called 'Johnny'\n",
      "He is called \"Johnny\"\n"
     ]
    }
   ],
   "source": [
    "print(\"It's alright\")\n",
    "print(\"He is called 'Johnny'\")\n",
    "print('He is called \"Johnny\"')"
   ]
  },
  {
   "cell_type": "markdown",
   "id": "a13ad82e-d565-4d50-8825-c16139dda9ad",
   "metadata": {},
   "source": [
    "Example 3"
   ]
  },
  {
   "cell_type": "code",
   "execution_count": 3,
   "id": "c9ce572a-a945-4b4f-aa2b-07c7154a88d2",
   "metadata": {},
   "outputs": [
    {
     "name": "stdout",
     "output_type": "stream",
     "text": [
      "Hello\n"
     ]
    }
   ],
   "source": [
    "a = \"Hello\"\n",
    "print(a)"
   ]
  },
  {
   "cell_type": "markdown",
   "id": "135557bb-b9f9-4fe2-9512-015377f028df",
   "metadata": {},
   "source": [
    "Example 4"
   ]
  },
  {
   "cell_type": "code",
   "execution_count": 4,
   "id": "343ec139-174b-4434-9a1a-3376ed063e38",
   "metadata": {},
   "outputs": [
    {
     "name": "stdout",
     "output_type": "stream",
     "text": [
      "Lorem ipsum dolor sit amet,\n",
      "consectetur adipiscing elit,\n",
      "sed do eiusmod tempor incididunt\n",
      "ut labore et dolore magna aliqua.\n"
     ]
    }
   ],
   "source": [
    "a = \"\"\"Lorem ipsum dolor sit amet,\n",
    "consectetur adipiscing elit,\n",
    "sed do eiusmod tempor incididunt\n",
    "ut labore et dolore magna aliqua.\"\"\"\n",
    "print(a)"
   ]
  },
  {
   "cell_type": "markdown",
   "id": "2b153b1e-385e-4a03-abec-c2089d1241c3",
   "metadata": {},
   "source": [
    "Example 4.1 with single"
   ]
  },
  {
   "cell_type": "code",
   "execution_count": 5,
   "id": "006fb732-0d97-46f9-a4e4-58be33b87ead",
   "metadata": {},
   "outputs": [
    {
     "name": "stdout",
     "output_type": "stream",
     "text": [
      "Lorem ipsum dolor sit amet,\n",
      "consectetur adipiscing elit,\n",
      "sed do eiusmod tempor incididunt\n",
      "ut labore et dolore magna aliqua.\n"
     ]
    }
   ],
   "source": [
    "a = '''Lorem ipsum dolor sit amet,\n",
    "consectetur adipiscing elit,\n",
    "sed do eiusmod tempor incididunt\n",
    "ut labore et dolore magna aliqua.'''\n",
    "print(a)"
   ]
  },
  {
   "cell_type": "markdown",
   "id": "8ac8c398-5c7c-44b8-b4f7-b752a389d002",
   "metadata": {},
   "source": [
    "Example 5 Array"
   ]
  },
  {
   "cell_type": "code",
   "execution_count": 6,
   "id": "8eca2528-adae-45eb-980c-67890d5847f6",
   "metadata": {},
   "outputs": [
    {
     "name": "stdout",
     "output_type": "stream",
     "text": [
      "e\n"
     ]
    }
   ],
   "source": [
    "a = \"Hello, World!\"\n",
    "print(a[1])"
   ]
  },
  {
   "cell_type": "markdown",
   "id": "9e907acb-3ff2-401e-ab7f-27ceb1a4b093",
   "metadata": {},
   "source": [
    "Example 6 Loop"
   ]
  },
  {
   "cell_type": "code",
   "execution_count": 7,
   "id": "69562bb1-0768-416b-b11f-83ed277bf0ab",
   "metadata": {},
   "outputs": [
    {
     "name": "stdout",
     "output_type": "stream",
     "text": [
      "b\n",
      "a\n",
      "n\n",
      "a\n",
      "n\n",
      "a\n"
     ]
    }
   ],
   "source": [
    "for x in \"banana\":\n",
    "  print(x)"
   ]
  },
  {
   "cell_type": "markdown",
   "id": "b2e6baef-27ae-4e66-8aa8-806b1e15368a",
   "metadata": {},
   "source": [
    "Example 7 length"
   ]
  },
  {
   "cell_type": "code",
   "execution_count": 8,
   "id": "f1a9a79e-c58f-4925-9198-984d2e9340ef",
   "metadata": {},
   "outputs": [
    {
     "name": "stdout",
     "output_type": "stream",
     "text": [
      "13\n"
     ]
    }
   ],
   "source": [
    "a = \"Hello, World!\"\n",
    "print(len(a))"
   ]
  },
  {
   "cell_type": "markdown",
   "id": "f624fb2c-026b-428c-80b9-9b46066b33c0",
   "metadata": {},
   "source": [
    "Example 8 check"
   ]
  },
  {
   "cell_type": "code",
   "execution_count": 9,
   "id": "55e6a941-3136-4372-bd16-a617c494f00a",
   "metadata": {},
   "outputs": [
    {
     "name": "stdout",
     "output_type": "stream",
     "text": [
      "True\n"
     ]
    }
   ],
   "source": [
    "txt = \"The best things in life are free!\"\n",
    "print(\"free\" in txt)"
   ]
  },
  {
   "cell_type": "markdown",
   "id": "58ce70f3-5bee-4695-ab8e-eee94baca751",
   "metadata": {},
   "source": [
    "Example 8.1"
   ]
  },
  {
   "cell_type": "code",
   "execution_count": 10,
   "id": "24503014-c348-4aa9-97a3-8b8a16b3da6d",
   "metadata": {},
   "outputs": [
    {
     "name": "stdout",
     "output_type": "stream",
     "text": [
      "Yes, 'free' is present.\n"
     ]
    }
   ],
   "source": [
    "txt = \"The best things in life are free!\"\n",
    "if \"free\" in txt:\n",
    "  print(\"Yes, 'free' is present.\")"
   ]
  },
  {
   "cell_type": "markdown",
   "id": "9dc04db2-00ee-4a6e-9463-f2d449056bc8",
   "metadata": {},
   "source": [
    "Example 9"
   ]
  },
  {
   "cell_type": "code",
   "execution_count": 11,
   "id": "dcfb88d3-f253-4d4b-87ef-76aafa3f0bc5",
   "metadata": {},
   "outputs": [
    {
     "name": "stdout",
     "output_type": "stream",
     "text": [
      "True\n"
     ]
    }
   ],
   "source": [
    "txt = \"The best things in life are free!\"\n",
    "print(\"expensive\" not in txt)"
   ]
  },
  {
   "cell_type": "markdown",
   "id": "848b4f60-0c6f-47f8-b4bc-c5c945f2fa42",
   "metadata": {},
   "source": [
    "Example 9.1"
   ]
  },
  {
   "cell_type": "code",
   "execution_count": 12,
   "id": "d73bb318-ab9e-45b5-9965-f07d1be1980a",
   "metadata": {},
   "outputs": [
    {
     "name": "stdout",
     "output_type": "stream",
     "text": [
      "No, 'expensive' is NOT present.\n"
     ]
    }
   ],
   "source": [
    "txt = \"The best things in life are free!\"\n",
    "if \"expensive\" not in txt:\n",
    "  print(\"No, 'expensive' is NOT present.\")"
   ]
  },
  {
   "cell_type": "markdown",
   "id": "75155808-75a6-477f-b61a-0928067caa34",
   "metadata": {},
   "source": [
    "Example 1 Slicing"
   ]
  },
  {
   "cell_type": "code",
   "execution_count": 13,
   "id": "85813ea3-08a2-4a22-96c5-5526290de502",
   "metadata": {},
   "outputs": [
    {
     "name": "stdout",
     "output_type": "stream",
     "text": [
      "llo\n"
     ]
    }
   ],
   "source": [
    "b = \"Hello, World!\"\n",
    "print(b[2:5])"
   ]
  },
  {
   "cell_type": "markdown",
   "id": "9b7dd451-8e28-4806-acde-1e34de6ef0a5",
   "metadata": {},
   "source": [
    "Example 2"
   ]
  },
  {
   "cell_type": "code",
   "execution_count": 14,
   "id": "1d87addd-a693-4119-8fc0-a94df918817c",
   "metadata": {},
   "outputs": [
    {
     "name": "stdout",
     "output_type": "stream",
     "text": [
      "Hello\n"
     ]
    }
   ],
   "source": [
    "b = \"Hello, World!\"\n",
    "print(b[:5])"
   ]
  },
  {
   "cell_type": "markdown",
   "id": "47960773-6d6c-4e05-aa17-291fb8fd0b80",
   "metadata": {},
   "source": [
    "Example 3"
   ]
  },
  {
   "cell_type": "code",
   "execution_count": 15,
   "id": "932125b1-9bc5-4310-88b1-178784e1c26d",
   "metadata": {},
   "outputs": [
    {
     "name": "stdout",
     "output_type": "stream",
     "text": [
      "llo, World!\n"
     ]
    }
   ],
   "source": [
    "b = \"Hello, World!\"\n",
    "print(b[2:])"
   ]
  },
  {
   "cell_type": "markdown",
   "id": "b6bc1874-8fe2-4295-964a-745d57de006e",
   "metadata": {},
   "source": [
    "Example 4"
   ]
  },
  {
   "cell_type": "code",
   "execution_count": 16,
   "id": "9dc0232b-159d-4ced-a956-2d6fdb29df8e",
   "metadata": {},
   "outputs": [
    {
     "name": "stdout",
     "output_type": "stream",
     "text": [
      "orl\n"
     ]
    }
   ],
   "source": [
    "b = \"Hello, World!\"\n",
    "print(b[-5:-2])"
   ]
  },
  {
   "cell_type": "markdown",
   "id": "e61d7fca-80ea-4671-a3da-6c57b7918df1",
   "metadata": {},
   "source": [
    "Example 1 Modify"
   ]
  },
  {
   "cell_type": "code",
   "execution_count": 17,
   "id": "007d2707-ebfc-46f4-979f-ad212a496a6f",
   "metadata": {},
   "outputs": [
    {
     "name": "stdout",
     "output_type": "stream",
     "text": [
      "HELLO, WORLD!\n"
     ]
    }
   ],
   "source": [
    "a = \"Hello, World!\"\n",
    "print(a.upper())"
   ]
  },
  {
   "cell_type": "markdown",
   "id": "99791e0c-5bcc-4266-817a-73845e5d05ad",
   "metadata": {},
   "source": [
    "Example 2 "
   ]
  },
  {
   "cell_type": "code",
   "execution_count": 18,
   "id": "50253ecb-722a-41bc-8077-238c2e812d37",
   "metadata": {},
   "outputs": [
    {
     "name": "stdout",
     "output_type": "stream",
     "text": [
      "hello, world!\n"
     ]
    }
   ],
   "source": [
    "a = \"Hello, World!\"\n",
    "print(a.lower())"
   ]
  },
  {
   "cell_type": "markdown",
   "id": "1cda16ac-f695-4c34-848f-4ca96c81e26a",
   "metadata": {},
   "source": [
    "Example 3 Remove Whitespace"
   ]
  },
  {
   "cell_type": "code",
   "execution_count": 19,
   "id": "dd1240a4-3162-4223-b431-de22537004ec",
   "metadata": {},
   "outputs": [
    {
     "name": "stdout",
     "output_type": "stream",
     "text": [
      "Hello, World!\n"
     ]
    }
   ],
   "source": [
    "a = \" Hello, World! \"\n",
    "print(a.strip()) # returns \"Hello, World!\""
   ]
  },
  {
   "cell_type": "markdown",
   "id": "334b47c3-1986-425b-9ce3-5dd53d04cb9b",
   "metadata": {},
   "source": [
    "Example 4 replace"
   ]
  },
  {
   "cell_type": "code",
   "execution_count": 20,
   "id": "33a48442-b93a-4077-98eb-c6a7c57afabf",
   "metadata": {},
   "outputs": [
    {
     "name": "stdout",
     "output_type": "stream",
     "text": [
      "Jello, World!\n"
     ]
    }
   ],
   "source": [
    "a = \"Hello, World!\"\n",
    "print(a.replace(\"H\", \"J\"))"
   ]
  },
  {
   "cell_type": "markdown",
   "id": "c9031a3a-5e33-448c-b809-c3f9dc086f72",
   "metadata": {},
   "source": [
    "Example 5 split"
   ]
  },
  {
   "cell_type": "code",
   "execution_count": 21,
   "id": "e8e84033-8e1d-441f-9fff-41038ec9b9d3",
   "metadata": {},
   "outputs": [
    {
     "name": "stdout",
     "output_type": "stream",
     "text": [
      "['Hello', ' World!']\n"
     ]
    }
   ],
   "source": [
    "a = \"Hello, World!\"\n",
    "print(a.split(\",\")) # returns ['Hello', ' World!']"
   ]
  },
  {
   "cell_type": "markdown",
   "id": "97274f12-4ce7-4a76-8c58-e1eb6c608766",
   "metadata": {},
   "source": [
    "Example 1 Concatenation"
   ]
  },
  {
   "cell_type": "code",
   "execution_count": 22,
   "id": "abf2cd8f-a42e-4183-89cb-e5e8a82d2f87",
   "metadata": {},
   "outputs": [
    {
     "name": "stdout",
     "output_type": "stream",
     "text": [
      "HelloWorld\n"
     ]
    }
   ],
   "source": [
    "a = \"Hello\"\n",
    "b = \"World\"\n",
    "c = a + b\n",
    "print(c)"
   ]
  },
  {
   "cell_type": "markdown",
   "id": "d09e854e-f5c8-4923-b204-01cdecb0b97c",
   "metadata": {},
   "source": [
    "Example 2"
   ]
  },
  {
   "cell_type": "code",
   "execution_count": 23,
   "id": "b003e6a4-6be5-420d-a1d4-715e159af6ea",
   "metadata": {},
   "outputs": [
    {
     "name": "stdout",
     "output_type": "stream",
     "text": [
      "Hello World\n"
     ]
    }
   ],
   "source": [
    "a = \"Hello\"\n",
    "b = \"World\"\n",
    "c = a + \" \" + b\n",
    "print(c)"
   ]
  },
  {
   "cell_type": "markdown",
   "id": "f9698a85-443a-4668-98cb-0144f7355480",
   "metadata": {},
   "source": [
    "Example 1 Format error"
   ]
  },
  {
   "cell_type": "code",
   "execution_count": 24,
   "id": "02af123a-c057-484f-838f-37754844a94e",
   "metadata": {},
   "outputs": [
    {
     "ename": "TypeError",
     "evalue": "can only concatenate str (not \"int\") to str",
     "output_type": "error",
     "traceback": [
      "\u001b[1;31m---------------------------------------------------------------------------\u001b[0m",
      "\u001b[1;31mTypeError\u001b[0m                                 Traceback (most recent call last)",
      "Cell \u001b[1;32mIn[24], line 2\u001b[0m\n\u001b[0;32m      1\u001b[0m age \u001b[38;5;241m=\u001b[39m \u001b[38;5;241m36\u001b[39m\n\u001b[1;32m----> 2\u001b[0m txt \u001b[38;5;241m=\u001b[39m \u001b[38;5;124m\"\u001b[39m\u001b[38;5;124mMy name is John, I am \u001b[39m\u001b[38;5;124m\"\u001b[39m \u001b[38;5;241m+\u001b[39m age\n\u001b[0;32m      3\u001b[0m \u001b[38;5;28mprint\u001b[39m(txt)\n",
      "\u001b[1;31mTypeError\u001b[0m: can only concatenate str (not \"int\") to str"
     ]
    }
   ],
   "source": [
    "age = 36\n",
    "txt = \"My name is John, I am \" + age\n",
    "print(txt)"
   ]
  },
  {
   "cell_type": "markdown",
   "id": "b39267f8-b7b2-4b55-a63b-b09468eeef9e",
   "metadata": {},
   "source": [
    "Example 1.1"
   ]
  },
  {
   "cell_type": "code",
   "execution_count": 25,
   "id": "9f2ba546-e10a-434c-a9c8-28e63da43299",
   "metadata": {},
   "outputs": [
    {
     "name": "stdout",
     "output_type": "stream",
     "text": [
      "My name is John, I am 36\n"
     ]
    }
   ],
   "source": [
    "age = 36\n",
    "txt = f\"My name is John, I am {age}\"\n",
    "print(txt)"
   ]
  },
  {
   "cell_type": "markdown",
   "id": "e1b4cf36-f55f-4b30-a899-cf6adc04c0c5",
   "metadata": {},
   "source": [
    "Example 2"
   ]
  },
  {
   "cell_type": "code",
   "execution_count": 26,
   "id": "0175aedc-b0b1-4f66-bb3c-7206ae9fd2ad",
   "metadata": {},
   "outputs": [
    {
     "name": "stdout",
     "output_type": "stream",
     "text": [
      "The price is 59 dollars\n"
     ]
    }
   ],
   "source": [
    "price = 59\n",
    "txt = f\"The price is {price} dollars\"\n",
    "print(txt)"
   ]
  },
  {
   "cell_type": "markdown",
   "id": "1d9f4870-e462-4a7a-bb0d-da72009a9ab5",
   "metadata": {},
   "source": [
    "Example 3"
   ]
  },
  {
   "cell_type": "code",
   "execution_count": 27,
   "id": "fc94d6d7-2f31-42e3-ae35-8583204a22fa",
   "metadata": {},
   "outputs": [
    {
     "name": "stdout",
     "output_type": "stream",
     "text": [
      "The price is 59.00 dollars\n"
     ]
    }
   ],
   "source": [
    "price = 59\n",
    "txt = f\"The price is {price:.2f} dollars\"\n",
    "print(txt)"
   ]
  },
  {
   "cell_type": "markdown",
   "id": "3798ad7e-a3fa-4c41-b812-b4be27687f58",
   "metadata": {},
   "source": [
    "Example 4"
   ]
  },
  {
   "cell_type": "code",
   "execution_count": 28,
   "id": "488d2dcc-00ca-433c-b80f-3d484d7c4cbd",
   "metadata": {},
   "outputs": [
    {
     "name": "stdout",
     "output_type": "stream",
     "text": [
      "The price is 1180 dollars\n"
     ]
    }
   ],
   "source": [
    "txt = f\"The price is {20 * 59} dollars\"\n",
    "print(txt)"
   ]
  },
  {
   "cell_type": "markdown",
   "id": "7c9eef9c-c401-410f-9297-2fa02418c575",
   "metadata": {},
   "source": [
    "Example 1 Escape Characters error"
   ]
  },
  {
   "cell_type": "code",
   "execution_count": 29,
   "id": "90af5945-67be-4c5e-bccf-e3ad32fdf3c4",
   "metadata": {},
   "outputs": [
    {
     "ename": "SyntaxError",
     "evalue": "invalid syntax (7934146.py, line 1)",
     "output_type": "error",
     "traceback": [
      "\u001b[1;36m  Cell \u001b[1;32mIn[29], line 1\u001b[1;36m\u001b[0m\n\u001b[1;33m    txt = \"We are the so-called \"Vikings\" from the north.\"\u001b[0m\n\u001b[1;37m                                 ^\u001b[0m\n\u001b[1;31mSyntaxError\u001b[0m\u001b[1;31m:\u001b[0m invalid syntax\n"
     ]
    }
   ],
   "source": [
    "txt = \"We are the so-called \"Vikings\" from the north.\""
   ]
  },
  {
   "cell_type": "markdown",
   "id": "fabe2f33-4cab-4b6a-9103-d151828bc293",
   "metadata": {},
   "source": [
    "Example 1.1 To fix this problem, use the escape character \\\""
   ]
  },
  {
   "cell_type": "code",
   "execution_count": 30,
   "id": "cab388a6-5465-4918-8fe2-45166184c64d",
   "metadata": {},
   "outputs": [],
   "source": [
    "txt = \"We are the so-called \\\"Vikings\\\" from the north.\""
   ]
  },
  {
   "cell_type": "markdown",
   "id": "e0c075d8-9635-413a-b7ce-cded9495631b",
   "metadata": {},
   "source": [
    "\\'\t    Single Quote\t\n",
    "\\\\\t    Backslash\t\n",
    "\\n\t    New Line\t\n",
    "\\r\t    Carriage Return\t\n",
    "\\t\t    Tab\t\n",
    "\\b\t    Backspace\t\n",
    "\\f\t    Form Feed\t\n",
    "\\ooo\tOctal value\t\n",
    "\\xhh\tHex value"
   ]
  },
  {
   "cell_type": "markdown",
   "id": "ca5d6da6-db26-4b3c-ab5d-753960f63ed5",
   "metadata": {},
   "source": [
    "String Methods"
   ]
  },
  {
   "cell_type": "markdown",
   "id": "0fcc9c10-4a19-4be5-a756-f2e2716750a7",
   "metadata": {},
   "source": [
    "Method\t                          Description\n",
    "capitalize()\t      Converts the first character to upper case\n",
    "casefold()\t          Converts string into lower case\n",
    "center()\t          Returns a centered string\n",
    "count()\t              Returns the number of times a specified value occurs in a string\n",
    "encode()\t          Returns an encoded version of the string\n",
    "endswith()\t          Returns true if the string ends with the specified value\n",
    "expandtabs()\t      Sets the tab size of the string\n",
    "find()\t              Searches the string for a specified value and returns the position of where it was found\n",
    "format()\t          Formats specified values in a string\n",
    "format_map()\t      Formats specified values in a string\n",
    "index()\t              Searches the string for a specified value and returns the position of where it was found\n",
    "isalnum()\t          Returns True if all characters in the string are alphanumeric\n",
    "isalpha()\t          Returns True if all characters in the string are in the alphabet\n",
    "isascii()\t          Returns True if all characters in the string are ascii characters\n",
    "isdecimal()\t          Returns True if all characters in the string are decimals\n",
    "isdigit()\t          Returns True if all characters in the string are digits\n",
    "isidentifier()\t      Returns True if the string is an identifier\n",
    "islower()\t          Returns True if all characters in the string are lower case\n",
    "isnumeric()\t          Returns True if all characters in the string are numeric\n",
    "isprintable()\t      Returns True if all characters in the string are printable\n",
    "isspace()\t          Returns True if all characters in the string are whitespaces\n",
    "istitle()\t          Returns True if the string follows the rules of a title\n",
    "isupper()\t          Returns True if all characters in the string are upper case\n",
    "join()\t              Joins the elements of an iterable to the end of the string\n",
    "ljust()\t              Returns a left justified version of the string\n",
    "lower()\t              Converts a string into lower case\n",
    "lstrip()\t          Returns a left trim version of the string\n",
    "maketrans()\t          Returns a translation table to be used in translations\n",
    "partition()\t          Returns a tuple where the string is parted into three parts\n",
    "replace()\t          Returns a string where a specified value is replaced with a specified value\n",
    "rfind()\t              Searches the string for a specified value and returns the last position of where it was found\n",
    "rindex()\t          Searches the string for a specified value and returns the last position of where it was found\n",
    "rjust()\t              Returns a right justified version of the string\n",
    "rpartition()\t      Returns a tuple where the string is parted into three parts\n",
    "rsplit()\t          Splits the string at the specified separator, and returns a list\n",
    "rstrip()\t          Returns a right trim version of the string\n",
    "split()\t              Splits the string at the specified separator, and returns a list\n",
    "splitlines()\t      Splits the string at line breaks and returns a list\n",
    "startswith()\t      Returns true if the string starts with the specified value\n",
    "strip()\t              Returns a trimmed version of the string\n",
    "swapcase()\t          Swaps cases, lower case becomes upper case and vice versa\n",
    "title()\t              Converts the first character of each word to upper case\n",
    "translate()\t          Returns a translated string\n",
    "upper()\t              Converts a string into upper case\n",
    "zfill()\t              Fills the string with a specified number of 0 values at the beginning"
   ]
  }
 ],
 "metadata": {
  "kernelspec": {
   "display_name": "Python 3 (ipykernel)",
   "language": "python",
   "name": "python3"
  },
  "language_info": {
   "codemirror_mode": {
    "name": "ipython",
    "version": 3
   },
   "file_extension": ".py",
   "mimetype": "text/x-python",
   "name": "python",
   "nbconvert_exporter": "python",
   "pygments_lexer": "ipython3",
   "version": "3.12.7"
  }
 },
 "nbformat": 4,
 "nbformat_minor": 5
}
