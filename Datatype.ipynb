{
 "cells": [
  {
   "cell_type": "markdown",
   "id": "437d5104-3c4d-42d2-a600-e4e1d5744a6a",
   "metadata": {},
   "source": [
    "Example 1"
   ]
  },
  {
   "cell_type": "code",
   "execution_count": 1,
   "id": "7cc7b529-1683-4362-9ae9-ecebcb40c286",
   "metadata": {},
   "outputs": [
    {
     "name": "stdout",
     "output_type": "stream",
     "text": [
      "<class 'int'>\n"
     ]
    }
   ],
   "source": [
    "x = 5\n",
    "print(type(x))"
   ]
  },
  {
   "cell_type": "markdown",
   "id": "dd056133-4bce-4ad0-a77e-a5ee4fd94761",
   "metadata": {},
   "source": [
    "Setting the Data Type"
   ]
  },
  {
   "cell_type": "markdown",
   "id": "102d9bdc-7b87-4add-8988-a5f45aca1d47",
   "metadata": {},
   "source": [
    "x = \"Hello World\"\t                str\t\n",
    "x = 20\t                            int\t\n",
    "x = 20.5\t                        float\t\n",
    "x = 1j\t                            complex\t\n",
    "x = [\"apple\", \"banana\", \"cherry\"]\tlist\t\n",
    "x = (\"apple\", \"banana\", \"cherry\")\ttuple\t\n",
    "x = range(6)\t                    range\t\n",
    "x = {\"name\" : \"John\", \"age\" : 36}\tdict\t\n",
    "x = {\"apple\", \"banana\", \"cherry\"}\tset\t\n",
    "x = frozenset({\"apple\", \"banana\", \"cherry\"})\tfrozenset\t\n",
    "x = True\t                        bool\t\n",
    "x = b\"Hello\"\t                    bytes\t\n",
    "x = bytearray(5)\t                bytearray\t\n",
    "x = memoryview(bytes(5))\t        memoryview\t\n",
    "x = None\t                        NoneType"
   ]
  },
  {
   "cell_type": "markdown",
   "id": "9f320ce0-aa3b-4905-8671-1200cae5cc85",
   "metadata": {},
   "source": [
    "Example 2"
   ]
  },
  {
   "cell_type": "code",
   "execution_count": 8,
   "id": "2064d6f6-3f50-4f28-a56e-0fb56b15d2d7",
   "metadata": {},
   "outputs": [
    {
     "name": "stdout",
     "output_type": "stream",
     "text": [
      "<class 'str'> <class 'complex'>\n"
     ]
    }
   ],
   "source": [
    "x='4'\n",
    "y=10,5\n",
    "z=2j\n",
    "a=None\n",
    "b=False\n",
    "print(type(x),type(z))"
   ]
  }
 ],
 "metadata": {
  "kernelspec": {
   "display_name": "Python 3 (ipykernel)",
   "language": "python",
   "name": "python3"
  },
  "language_info": {
   "codemirror_mode": {
    "name": "ipython",
    "version": 3
   },
   "file_extension": ".py",
   "mimetype": "text/x-python",
   "name": "python",
   "nbconvert_exporter": "python",
   "pygments_lexer": "ipython3",
   "version": "3.12.7"
  }
 },
 "nbformat": 4,
 "nbformat_minor": 5
}
