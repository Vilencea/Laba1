{
 "cells": [
  {
   "cell_type": "markdown",
   "id": "d14fab9d-0180-429a-a5ec-848e0a689b3e",
   "metadata": {},
   "source": [
    "Example 1 Variables"
   ]
  },
  {
   "cell_type": "code",
   "execution_count": 1,
   "id": "b0a4ce70-d059-419d-b151-7a4a77c4b5bb",
   "metadata": {},
   "outputs": [
    {
     "name": "stdout",
     "output_type": "stream",
     "text": [
      "5\n",
      "John\n"
     ]
    }
   ],
   "source": [
    "x = 5\n",
    "y = \"John\"\n",
    "print(x)\n",
    "print(y)"
   ]
  },
  {
   "cell_type": "markdown",
   "id": "216ee42f-ff86-4389-ac04-0f07f0142333",
   "metadata": {},
   "source": [
    "Example 2 Variables"
   ]
  },
  {
   "cell_type": "code",
   "execution_count": 2,
   "id": "117300ff-58d8-44f1-b013-bd653c1b744f",
   "metadata": {},
   "outputs": [
    {
     "name": "stdout",
     "output_type": "stream",
     "text": [
      "Sally\n"
     ]
    }
   ],
   "source": [
    "x = 4       # x is of type int\n",
    "x = \"Sally\" # x is now of type str\n",
    "print(x)"
   ]
  },
  {
   "cell_type": "markdown",
   "id": "4d0107a9-a0dd-4618-8185-4a14308a1d3b",
   "metadata": {},
   "source": [
    "Example 3 Variables x!=y"
   ]
  },
  {
   "cell_type": "code",
   "execution_count": 6,
   "id": "1a2b8f0d-182c-4150-85ec-cd435a1455a0",
   "metadata": {},
   "outputs": [
    {
     "name": "stdout",
     "output_type": "stream",
     "text": [
      "3 3 3.0\n"
     ]
    }
   ],
   "source": [
    "x = str(3)    # x will be '3'\n",
    "y = int(3)    # y will be 3\n",
    "z = float(3)  # z will be 3.0\n",
    "print(x,y,z)"
   ]
  },
  {
   "cell_type": "markdown",
   "id": "29103763-7653-4529-ba79-87b08af9bb0c",
   "metadata": {},
   "source": []
  },
  {
   "cell_type": "code",
   "execution_count": 5,
   "id": "ed2e358c-9930-4583-b2c2-16f6e4e26bd8",
   "metadata": {},
   "outputs": [
    {
     "name": "stdout",
     "output_type": "stream",
     "text": [
      "<class 'int'>\n",
      "<class 'str'>\n"
     ]
    }
   ],
   "source": [
    "x = 5\n",
    "y = \"John\"\n",
    "print(type(x))\n",
    "print(type(y))"
   ]
  },
  {
   "cell_type": "markdown",
   "id": "b613770a-6a6c-40bf-9361-4b15f5dafa99",
   "metadata": {},
   "source": [
    "Example 5 Variables x=x"
   ]
  },
  {
   "cell_type": "code",
   "execution_count": null,
   "id": "3d5c16e8-58e5-40a5-839b-86283eb78e44",
   "metadata": {},
   "outputs": [],
   "source": [
    "x = \"John\"\n",
    "# is the same as\n",
    "x = 'John'"
   ]
  },
  {
   "cell_type": "markdown",
   "id": "afdf2302-ccc1-4137-b203-737304b025f5",
   "metadata": {},
   "source": [
    "Example 6 Variables A!=a"
   ]
  },
  {
   "cell_type": "code",
   "execution_count": null,
   "id": "4085c4cb-33d9-40ab-b454-a671187ed8fb",
   "metadata": {},
   "outputs": [],
   "source": [
    "a = 4\n",
    "A = \"Sally\"\n",
    "#A will not overwrite a"
   ]
  },
  {
   "cell_type": "markdown",
   "id": "00a80425-8c08-4680-82cf-9f47adea016b",
   "metadata": {},
   "source": [
    "Example 1 Names Legal names"
   ]
  },
  {
   "cell_type": "code",
   "execution_count": 8,
   "id": "e887a694-8acd-407b-8df7-0afd41f1e632",
   "metadata": {},
   "outputs": [],
   "source": [
    "myvar = \"John\"\n",
    "my_var = \"John\"\n",
    "_my_var = \"John\"\n",
    "myVar = \"John\"\n",
    "MYVAR = \"John\"\n",
    "myvar2 = \"John\""
   ]
  },
  {
   "cell_type": "markdown",
   "id": "115b9c49-4da6-4f1a-929a-62077d5fa63e",
   "metadata": {},
   "source": [
    "A variable can have a short name (like x and y) or a more descriptive name (age, carname, total_volume). \n",
    "Rules for Python variables:\n",
    "1)A variable name must start with a letter or the underscore character\n",
    "2)A variable name cannot start with a number\n",
    "3)A variable name can only contain alpha-numeric characters and underscores (A-z, 0-9, and _ )\n",
    "4)Variable names are case-sensitive (age, Age and AGE are three different variables)\n",
    "5)A variable name cannot be any of the Python keywords."
   ]
  },
  {
   "cell_type": "markdown",
   "id": "1fe45f08-5cfd-45f8-be29-bd12f9d0fc87",
   "metadata": {},
   "source": [
    "Example 2 Names Illegal names"
   ]
  },
  {
   "cell_type": "code",
   "execution_count": 7,
   "id": "5355168d-cc1e-4949-a014-68e7f29f9263",
   "metadata": {},
   "outputs": [
    {
     "ename": "SyntaxError",
     "evalue": "invalid decimal literal (2185399839.py, line 1)",
     "output_type": "error",
     "traceback": [
      "\u001b[1;36m  Cell \u001b[1;32mIn[7], line 1\u001b[1;36m\u001b[0m\n\u001b[1;33m    2myvar = \"John\"\u001b[0m\n\u001b[1;37m    ^\u001b[0m\n\u001b[1;31mSyntaxError\u001b[0m\u001b[1;31m:\u001b[0m invalid decimal literal\n"
     ]
    }
   ],
   "source": [
    "2myvar = \"John\"\n",
    "my-var = \"John\"\n",
    "my var = \"John\""
   ]
  },
  {
   "cell_type": "markdown",
   "id": "8b2d8de5-6fb3-443b-a57a-29cf10645045",
   "metadata": {},
   "source": [
    "Example 1 Multiple Values"
   ]
  },
  {
   "cell_type": "code",
   "execution_count": 9,
   "id": "ef95bc5f-ef3e-4eb7-b0a8-e5f53db83186",
   "metadata": {},
   "outputs": [
    {
     "name": "stdout",
     "output_type": "stream",
     "text": [
      "Orange\n",
      "Banana\n",
      "Cherry\n"
     ]
    }
   ],
   "source": [
    "x, y, z = \"Orange\", \"Banana\", \"Cherry\"\n",
    "print(x)\n",
    "print(y)\n",
    "print(z)"
   ]
  },
  {
   "cell_type": "markdown",
   "id": "1858b124-2963-48a9-8416-bcd873193a3a",
   "metadata": {},
   "source": [
    "Example 2 Multiple Values"
   ]
  },
  {
   "cell_type": "code",
   "execution_count": 10,
   "id": "b5cd7bcc-5c4e-4a3f-b10c-559e1d78d3b1",
   "metadata": {},
   "outputs": [
    {
     "name": "stdout",
     "output_type": "stream",
     "text": [
      "Orange\n",
      "Orange\n",
      "Orange\n"
     ]
    }
   ],
   "source": [
    "x = y = z = \"Orange\"\n",
    "print(x)\n",
    "print(y)\n",
    "print(z)"
   ]
  },
  {
   "cell_type": "markdown",
   "id": "fd2b9436-0b51-4cc2-a569-963a7ecc30b8",
   "metadata": {},
   "source": [
    "Example 3 Multiple Values"
   ]
  },
  {
   "cell_type": "code",
   "execution_count": 11,
   "id": "fd2db332-a0a3-4359-bdf2-75ac6edee862",
   "metadata": {},
   "outputs": [
    {
     "name": "stdout",
     "output_type": "stream",
     "text": [
      "apple\n",
      "banana\n",
      "cherry\n"
     ]
    }
   ],
   "source": [
    "fruits = [\"apple\", \"banana\", \"cherry\"]\n",
    "x, y, z = fruits\n",
    "print(x)\n",
    "print(y)\n",
    "print(z)"
   ]
  },
  {
   "cell_type": "markdown",
   "id": "59626ba9-88f5-4612-8523-666d86996feb",
   "metadata": {},
   "source": [
    "Example 1 Output Variables"
   ]
  },
  {
   "cell_type": "code",
   "execution_count": 12,
   "id": "634a2082-aec4-4ce3-9653-c9babea707a3",
   "metadata": {},
   "outputs": [
    {
     "name": "stdout",
     "output_type": "stream",
     "text": [
      "Python is awesome\n"
     ]
    }
   ],
   "source": [
    "x = \"Python is awesome\"\n",
    "print(x)"
   ]
  },
  {
   "cell_type": "markdown",
   "id": "b60fdfa1-aac8-4f03-a016-fc74a995e9bc",
   "metadata": {},
   "source": [
    "Example 2 Output Variables"
   ]
  },
  {
   "cell_type": "code",
   "execution_count": 13,
   "id": "3dc3fc27-6915-4e5f-820c-3fa7d7ffb5b7",
   "metadata": {},
   "outputs": [
    {
     "name": "stdout",
     "output_type": "stream",
     "text": [
      "Python is awesome\n"
     ]
    }
   ],
   "source": [
    "x = \"Python\"\n",
    "y = \"is\"\n",
    "z = \"awesome\"\n",
    "print(x, y, z)"
   ]
  },
  {
   "cell_type": "markdown",
   "id": "2060e015-3985-4166-9000-e8668004821d",
   "metadata": {},
   "source": [
    "Example 3 Output Variables"
   ]
  },
  {
   "cell_type": "code",
   "execution_count": 14,
   "id": "4a2f77fe-a09d-455a-a2a9-3383dc9ec5d8",
   "metadata": {},
   "outputs": [
    {
     "name": "stdout",
     "output_type": "stream",
     "text": [
      "Python is awesome\n"
     ]
    }
   ],
   "source": [
    "x = \"Python \"\n",
    "y = \"is \"\n",
    "z = \"awesome\"\n",
    "print(x + y + z)"
   ]
  },
  {
   "cell_type": "markdown",
   "id": "1e455a11-7d51-4517-9f9a-a1c9288d982e",
   "metadata": {},
   "source": [
    "Example 4 Output Variables"
   ]
  },
  {
   "cell_type": "code",
   "execution_count": 16,
   "id": "c6c682a3-3a14-4c88-9a8e-42a8be3f4dc4",
   "metadata": {},
   "outputs": [
    {
     "name": "stdout",
     "output_type": "stream",
     "text": [
      "15\n"
     ]
    }
   ],
   "source": [
    "x = 5\n",
    "y = 10\n",
    "print(x + y)"
   ]
  },
  {
   "cell_type": "markdown",
   "id": "f441e67d-e0d8-4903-a8eb-fc3aa12135e9",
   "metadata": {},
   "source": [
    "Example 5 Output Variables Error"
   ]
  },
  {
   "cell_type": "code",
   "execution_count": 17,
   "id": "c6d59f0e-f374-468f-b613-4a2e0a03cffc",
   "metadata": {},
   "outputs": [
    {
     "ename": "TypeError",
     "evalue": "unsupported operand type(s) for +: 'int' and 'str'",
     "output_type": "error",
     "traceback": [
      "\u001b[1;31m---------------------------------------------------------------------------\u001b[0m",
      "\u001b[1;31mTypeError\u001b[0m                                 Traceback (most recent call last)",
      "Cell \u001b[1;32mIn[17], line 3\u001b[0m\n\u001b[0;32m      1\u001b[0m x \u001b[38;5;241m=\u001b[39m \u001b[38;5;241m5\u001b[39m\n\u001b[0;32m      2\u001b[0m y \u001b[38;5;241m=\u001b[39m \u001b[38;5;124m\"\u001b[39m\u001b[38;5;124mJohn\u001b[39m\u001b[38;5;124m\"\u001b[39m\n\u001b[1;32m----> 3\u001b[0m \u001b[38;5;28mprint\u001b[39m(x \u001b[38;5;241m+\u001b[39m y)\n",
      "\u001b[1;31mTypeError\u001b[0m: unsupported operand type(s) for +: 'int' and 'str'"
     ]
    }
   ],
   "source": [
    "x = 5\n",
    "y = \"John\"\n",
    "print(x + y)"
   ]
  },
  {
   "cell_type": "markdown",
   "id": "5a06fda1-4d32-4b66-be46-a48a65b0b02b",
   "metadata": {},
   "source": [
    "Example 6 Output Variables"
   ]
  },
  {
   "cell_type": "code",
   "execution_count": 18,
   "id": "8494ae1b-5e9d-45d8-866c-de2618476556",
   "metadata": {},
   "outputs": [
    {
     "name": "stdout",
     "output_type": "stream",
     "text": [
      "5 John\n"
     ]
    }
   ],
   "source": [
    "x = 5\n",
    "y = \"John\"\n",
    "print(x, y)"
   ]
  },
  {
   "cell_type": "markdown",
   "id": "0708cafb-5ee1-48ee-a2ca-96d24e870a89",
   "metadata": {},
   "source": [
    "Example 1 Global Variables"
   ]
  },
  {
   "cell_type": "code",
   "execution_count": 19,
   "id": "6ba9fe67-1fe2-439a-9d46-f3ebbedc68b6",
   "metadata": {},
   "outputs": [
    {
     "name": "stdout",
     "output_type": "stream",
     "text": [
      "Python is awesome\n"
     ]
    }
   ],
   "source": [
    "x = \"awesome\"\n",
    "\n",
    "def myfunc():\n",
    "  print(\"Python is \" + x)\n",
    "\n",
    "myfunc()"
   ]
  },
  {
   "cell_type": "markdown",
   "id": "24cb0752-a242-4094-a80b-ebc67edac06b",
   "metadata": {},
   "source": [
    "Example 2 Global Variables"
   ]
  },
  {
   "cell_type": "code",
   "execution_count": 20,
   "id": "9d697e20-9596-4604-97e1-86821c443b57",
   "metadata": {},
   "outputs": [
    {
     "name": "stdout",
     "output_type": "stream",
     "text": [
      "Python is fantastic\n",
      "Python is awesome\n"
     ]
    }
   ],
   "source": [
    "x = \"awesome\"\n",
    "\n",
    "def myfunc():\n",
    "  x = \"fantastic\"\n",
    "  print(\"Python is \" + x)\n",
    "\n",
    "myfunc()\n",
    "\n",
    "print(\"Python is \" + x)"
   ]
  },
  {
   "cell_type": "markdown",
   "id": "900055e4-76f5-49da-b147-592b4da048f4",
   "metadata": {},
   "source": [
    "Example 3 Global Variables"
   ]
  },
  {
   "cell_type": "code",
   "execution_count": 21,
   "id": "2bdbd4a9-6459-4556-8610-bf70e46cbcb6",
   "metadata": {},
   "outputs": [
    {
     "name": "stdout",
     "output_type": "stream",
     "text": [
      "Python is fantastic\n"
     ]
    }
   ],
   "source": [
    "def myfunc():\n",
    "  global x\n",
    "  x = \"fantastic\"\n",
    "\n",
    "myfunc()\n",
    "\n",
    "print(\"Python is \" + x)"
   ]
  },
  {
   "cell_type": "markdown",
   "id": "8854c169-4d8f-44c8-8d4d-2c3962266529",
   "metadata": {},
   "source": [
    "Example 4 Global Variables"
   ]
  },
  {
   "cell_type": "code",
   "execution_count": 22,
   "id": "6d1c9726-2d7f-497c-bc6f-d10ca67d41a0",
   "metadata": {},
   "outputs": [
    {
     "name": "stdout",
     "output_type": "stream",
     "text": [
      "Python is fantastic\n"
     ]
    }
   ],
   "source": [
    "x = \"awesome\"\n",
    "\n",
    "def myfunc():\n",
    "  global x\n",
    "  x = \"fantastic\"\n",
    "\n",
    "myfunc()\n",
    "\n",
    "print(\"Python is \" + x)"
   ]
  }
 ],
 "metadata": {
  "kernelspec": {
   "display_name": "Python 3 (ipykernel)",
   "language": "python",
   "name": "python3"
  },
  "language_info": {
   "codemirror_mode": {
    "name": "ipython",
    "version": 3
   },
   "file_extension": ".py",
   "mimetype": "text/x-python",
   "name": "python",
   "nbconvert_exporter": "python",
   "pygments_lexer": "ipython3",
   "version": "3.12.7"
  }
 },
 "nbformat": 4,
 "nbformat_minor": 5
}
