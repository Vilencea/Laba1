{
 "cells": [
  {
   "cell_type": "markdown",
   "id": "d959c913-541e-45aa-897d-955784c99a5f",
   "metadata": {},
   "source": [
    "Example 1 PYTHON HOME"
   ]
  },
  {
   "cell_type": "code",
   "execution_count": 1,
   "id": "b9a0b01c-7609-4667-babd-710578d836f1",
   "metadata": {},
   "outputs": [
    {
     "name": "stdout",
     "output_type": "stream",
     "text": [
      "Hello, World!\n"
     ]
    }
   ],
   "source": [
    "print(\"Hello, World!\")"
   ]
  },
  {
   "cell_type": "code",
   "execution_count": null,
   "id": "1d3ec44a-51d5-48fb-9507-206cbc189937",
   "metadata": {},
   "outputs": [],
   "source": []
  }
 ],
 "metadata": {
  "kernelspec": {
   "display_name": "Python 3 (ipykernel)",
   "language": "python",
   "name": "python3"
  },
  "language_info": {
   "codemirror_mode": {
    "name": "ipython",
    "version": 3
   },
   "file_extension": ".py",
   "mimetype": "text/x-python",
   "name": "python",
   "nbconvert_exporter": "python",
   "pygments_lexer": "ipython3",
   "version": "3.12.7"
  }
 },
 "nbformat": 4,
 "nbformat_minor": 5
}
