{
 "cells": [
  {
   "cell_type": "markdown",
   "id": "13890109-8cb3-4bc7-9aa9-c4e643dae35f",
   "metadata": {},
   "source": [
    "Example 1"
   ]
  },
  {
   "cell_type": "code",
   "execution_count": 1,
   "id": "57e6947a-2e60-4512-bb9b-6ae8babb3ead",
   "metadata": {},
   "outputs": [],
   "source": [
    "x = 1    # int\n",
    "y = 2.8  # float\n",
    "z = 1j   # complex"
   ]
  },
  {
   "cell_type": "markdown",
   "id": "1793a84b-4842-45c2-942b-5f6e2e79bf15",
   "metadata": {},
   "source": [
    "Example 1.1"
   ]
  },
  {
   "cell_type": "code",
   "execution_count": 2,
   "id": "2b06dc4e-f5d5-4c55-90cb-363debd00d09",
   "metadata": {},
   "outputs": [
    {
     "name": "stdout",
     "output_type": "stream",
     "text": [
      "<class 'int'>\n",
      "<class 'float'>\n",
      "<class 'complex'>\n"
     ]
    }
   ],
   "source": [
    "print(type(x))\n",
    "print(type(y))\n",
    "print(type(z))"
   ]
  },
  {
   "cell_type": "markdown",
   "id": "3d8f5c3d-2d7b-4ce0-9a23-3b6cda13be5d",
   "metadata": {},
   "source": [
    "Example 2 Int"
   ]
  },
  {
   "cell_type": "code",
   "execution_count": 3,
   "id": "6196ac85-e18e-4f88-9ae0-69cc9cad0b5d",
   "metadata": {},
   "outputs": [
    {
     "name": "stdout",
     "output_type": "stream",
     "text": [
      "<class 'int'>\n",
      "<class 'int'>\n",
      "<class 'int'>\n"
     ]
    }
   ],
   "source": [
    "x = 1\n",
    "y = 35656222554887711\n",
    "z = -3255522\n",
    "\n",
    "print(type(x))\n",
    "print(type(y))\n",
    "print(type(z))"
   ]
  },
  {
   "cell_type": "markdown",
   "id": "08c1c192-8af6-4c3e-83d7-82a00eef05a7",
   "metadata": {},
   "source": [
    "Example 3 Float"
   ]
  },
  {
   "cell_type": "code",
   "execution_count": 4,
   "id": "18898aba-77f4-4d39-a086-350df94f127c",
   "metadata": {},
   "outputs": [
    {
     "name": "stdout",
     "output_type": "stream",
     "text": [
      "<class 'float'>\n",
      "<class 'float'>\n",
      "<class 'float'>\n"
     ]
    }
   ],
   "source": [
    "x = 1.10\n",
    "y = 1.0\n",
    "z = -35.59\n",
    "\n",
    "print(type(x))\n",
    "print(type(y))\n",
    "print(type(z))"
   ]
  },
  {
   "cell_type": "markdown",
   "id": "8697f4f7-8894-4389-a3f1-64a21871da55",
   "metadata": {},
   "source": [
    "Example 4 \"e\" to indicate the power of 10"
   ]
  },
  {
   "cell_type": "code",
   "execution_count": 5,
   "id": "11c83481-e3bf-4ae4-a805-c21741d0bbf9",
   "metadata": {},
   "outputs": [
    {
     "name": "stdout",
     "output_type": "stream",
     "text": [
      "<class 'float'>\n",
      "<class 'float'>\n",
      "<class 'float'>\n"
     ]
    }
   ],
   "source": [
    "x = 35e3\n",
    "y = 12E4\n",
    "z = -87.7e100\n",
    "\n",
    "print(type(x))\n",
    "print(type(y))\n",
    "print(type(z))"
   ]
  },
  {
   "cell_type": "markdown",
   "id": "33618d24-826f-466b-8767-5d033ca26d7e",
   "metadata": {},
   "source": [
    "Example 5 Complex"
   ]
  },
  {
   "cell_type": "code",
   "execution_count": 6,
   "id": "c32fcac1-99a1-45f6-8ccc-d74ff59502e6",
   "metadata": {},
   "outputs": [
    {
     "name": "stdout",
     "output_type": "stream",
     "text": [
      "<class 'complex'>\n",
      "<class 'complex'>\n",
      "<class 'complex'>\n"
     ]
    }
   ],
   "source": [
    "x = 3+5j\n",
    "y = 5j\n",
    "z = -5j\n",
    "\n",
    "print(type(x))\n",
    "print(type(y))\n",
    "print(type(z))"
   ]
  },
  {
   "cell_type": "markdown",
   "id": "417aaa8f-ca24-4603-8d4a-16655f799944",
   "metadata": {},
   "source": [
    "Example 6 Type Conversion"
   ]
  },
  {
   "cell_type": "code",
   "execution_count": 7,
   "id": "f9d08184-0346-4741-848f-855dd7cdbfda",
   "metadata": {},
   "outputs": [
    {
     "name": "stdout",
     "output_type": "stream",
     "text": [
      "1.0\n",
      "2\n",
      "(1+0j)\n",
      "<class 'float'>\n",
      "<class 'int'>\n",
      "<class 'complex'>\n"
     ]
    }
   ],
   "source": [
    "x = 1    # int\n",
    "y = 2.8  # float\n",
    "z = 1j   # complex\n",
    "\n",
    "#convert from int to float:\n",
    "a = float(x)\n",
    "\n",
    "#convert from float to int:\n",
    "b = int(y)\n",
    "\n",
    "#convert from int to complex:\n",
    "c = complex(x)\n",
    "\n",
    "print(a)\n",
    "print(b)\n",
    "print(c)\n",
    "\n",
    "print(type(a))\n",
    "print(type(b))\n",
    "print(type(c))"
   ]
  },
  {
   "cell_type": "markdown",
   "id": "3b2e4de1-d04e-4caa-85cb-18c07c0f452f",
   "metadata": {},
   "source": [
    "Example 7 Random"
   ]
  },
  {
   "cell_type": "code",
   "execution_count": 8,
   "id": "23a8480c-fa73-4d98-bce1-bd83d3b76ad3",
   "metadata": {},
   "outputs": [
    {
     "name": "stdout",
     "output_type": "stream",
     "text": [
      "4\n"
     ]
    }
   ],
   "source": [
    "import random\n",
    "\n",
    "print(random.randrange(1, 10))"
   ]
  }
 ],
 "metadata": {
  "kernelspec": {
   "display_name": "Python 3 (ipykernel)",
   "language": "python",
   "name": "python3"
  },
  "language_info": {
   "codemirror_mode": {
    "name": "ipython",
    "version": 3
   },
   "file_extension": ".py",
   "mimetype": "text/x-python",
   "name": "python",
   "nbconvert_exporter": "python",
   "pygments_lexer": "ipython3",
   "version": "3.12.7"
  }
 },
 "nbformat": 4,
 "nbformat_minor": 5
}
