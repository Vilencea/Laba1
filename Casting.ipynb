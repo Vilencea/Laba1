{
 "cells": [
  {
   "cell_type": "markdown",
   "id": "71c4366c-a101-4aa2-9e46-65f5d573c9e0",
   "metadata": {},
   "source": [
    "Example 1 int"
   ]
  },
  {
   "cell_type": "code",
   "execution_count": 1,
   "id": "418ba095-d0bd-4566-8fa8-d5b21421110f",
   "metadata": {},
   "outputs": [],
   "source": [
    "x = int(1)   # x will be 1\n",
    "y = int(2.8) # y will be 2\n",
    "z = int(\"3\") # z will be 3"
   ]
  },
  {
   "cell_type": "markdown",
   "id": "d0c4ce1e-fcfd-43f4-a8fd-94641ada0ae5",
   "metadata": {},
   "source": [
    "Example 2 float"
   ]
  },
  {
   "cell_type": "code",
   "execution_count": 2,
   "id": "dd7cf085-8943-415f-b064-cfe0c783d83d",
   "metadata": {},
   "outputs": [],
   "source": [
    "x = float(1)     # x will be 1.0\n",
    "y = float(2.8)   # y will be 2.8\n",
    "z = float(\"3\")   # z will be 3.0\n",
    "w = float(\"4.2\") # w will be 4.2"
   ]
  },
  {
   "cell_type": "markdown",
   "id": "58e62a0e-ca84-49cc-b317-bdfeba085761",
   "metadata": {},
   "source": [
    "Example 3 str"
   ]
  },
  {
   "cell_type": "code",
   "execution_count": 3,
   "id": "15e51b13-0f3e-479d-96db-05de41d515be",
   "metadata": {},
   "outputs": [],
   "source": [
    "x = str(\"s1\") # x will be 's1'\n",
    "y = str(2)    # y will be '2'\n",
    "z = str(3.0)  # z will be '3.0'"
   ]
  }
 ],
 "metadata": {
  "kernelspec": {
   "display_name": "Python 3 (ipykernel)",
   "language": "python",
   "name": "python3"
  },
  "language_info": {
   "codemirror_mode": {
    "name": "ipython",
    "version": 3
   },
   "file_extension": ".py",
   "mimetype": "text/x-python",
   "name": "python",
   "nbconvert_exporter": "python",
   "pygments_lexer": "ipython3",
   "version": "3.12.7"
  }
 },
 "nbformat": 4,
 "nbformat_minor": 5
}
